{
 "cells": [
  {
   "attachments": {},
   "cell_type": "markdown",
   "metadata": {},
   "source": [
    "# Hydrogeodesy: Monitoring surface waters from space\n",
    "### Exercise 4: From river level to discharge\n",
    "\n",
    "Daniel Scherer, DGFI-TUM  \n",
    "Wintersemester 2022/23\n",
    "\n",
    "**Contents**\n",
    "1. Simple Rating Curve\n",
    "2. Jones Rating Curve considering hysteresis effect\n",
    "\n",
    "**Study Area: Mississippi River at Natchez (Mississippi, USA)**  \n",
    "\n",
    "Discharge Variation:   5000 - 60000 m³/s\n",
    "Water Level Variation: 5 - 25 m\n",
    "\n",
    "Following data is used in this exercise:  \n",
    "- In-Situ discharge and water level data recorded at the Natchez Gauge [USGS]\n",
    "- Combined satellite altimetry data from Envisat, Jason-2/3, and Sentinel-3A/B [www.dahiti.dgfi.tum.de]"
   ]
  },
  {
   "attachments": {},
   "cell_type": "markdown",
   "metadata": {},
   "source": [
    "#### Preprocessing\n",
    "Load the required packages and data:"
   ]
  },
  {
   "cell_type": "code",
   "execution_count": null,
   "metadata": {},
   "outputs": [],
   "source": [
    "import pandas as pd\n",
    "import matplotlib.pyplot as plt\n",
    "import numpy as np\n",
    "from scipy import optimize"
   ]
  },
  {
   "cell_type": "code",
   "execution_count": null,
   "metadata": {},
   "outputs": [],
   "source": [
    "# these are all pandas series\n",
    "dahiti_waterlevel = pd.read_pickle('Data/DAHITI_waterlevel.pkl')\n",
    "insitu_waterlevel = pd.read_pickle('Data/insitu_waterlevel.pkl')\n",
    "insitu_discharge = pd.read_pickle('Data/insitu_discharge.pkl')"
   ]
  },
  {
   "attachments": {},
   "cell_type": "markdown",
   "metadata": {},
   "source": [
    "Adjust the water levels time series to a common reference (they are from different sources and reference different vertical datums):"
   ]
  },
  {
   "cell_type": "code",
   "execution_count": null,
   "metadata": {},
   "outputs": [],
   "source": [
    "offset = (insitu_waterlevel - dahiti_waterlevel).mean()\n",
    "dahiti_waterlevel += offset"
   ]
  },
  {
   "attachments": {},
   "cell_type": "markdown",
   "metadata": {},
   "source": [
    "It is easier to work with the data when we gather all the series in one dataframe:"
   ]
  },
  {
   "cell_type": "code",
   "execution_count": null,
   "metadata": {},
   "outputs": [],
   "source": [
    "df = pd.DataFrame({\n",
    "    'insitu_waterlevel':insitu_waterlevel,\n",
    "    'insitu_discharge':insitu_discharge,\n",
    "})\n",
    "df"
   ]
  },
  {
   "attachments": {},
   "cell_type": "markdown",
   "metadata": {},
   "source": [
    "We can simply find synchron measurements:"
   ]
  },
  {
   "cell_type": "code",
   "execution_count": null,
   "metadata": {},
   "outputs": [],
   "source": [
    "df.dropna()"
   ]
  },
  {
   "attachments": {},
   "cell_type": "markdown",
   "metadata": {},
   "source": [
    "... and plot the data:"
   ]
  },
  {
   "cell_type": "code",
   "execution_count": null,
   "metadata": {},
   "outputs": [],
   "source": [
    "df.plot.scatter('insitu_waterlevel','insitu_discharge',label='In-Situ Observations')\n",
    "plt.xlabel(\"Water Level [m]\")\n",
    "plt.ylabel(\"Discharge [m3/s]\")\n",
    "plt.legend()\n",
    "plt.show()"
   ]
  },
  {
   "attachments": {},
   "cell_type": "markdown",
   "metadata": {},
   "source": [
    "**What physical processes might occur at the gauging station judging from the plot above?**  \n",
    "(see lecture script (20.12.2022, p.20f))"
   ]
  },
  {
   "attachments": {},
   "cell_type": "markdown",
   "metadata": {},
   "source": [
    "#### 1. Simple Rating Curve\n",
    "\n",
    "A rating curve models the ratio between water level and discharge.  \n",
    "It can be used to extend discharge time series over a period where only water level data are available.\n",
    "\n",
    "In this first step, we fit a simple polznomal function to the data.\n",
    "\n",
    "Fit a function to the data (Which degree would be suitable?): "
   ]
  },
  {
   "cell_type": "code",
   "execution_count": null,
   "metadata": {},
   "outputs": [],
   "source": [
    "degree = ... # choose a degree\n",
    "# np.polyfit fits a polynom to the data using least-squares and returns the coefficients\n",
    "coefficients = np.polyfit(\n",
    "    x = df.dropna().insitu_waterlevel,\n",
    "    y = df.dropna().insitu_discharge,\n",
    "    deg = degree)\n",
    "# np.poly1d takes the coefficients and returns the fitted function\n",
    "fitted_function = np.poly1d(coefficients)\n",
    "\n",
    "ax = df.plot.scatter('insitu_waterlevel','insitu_discharge',label='In-Situ Observations')\n",
    "# We create some x values between the min and max waterlevel...\n",
    "x = np.linspace(df.insitu_waterlevel.min(),df.insitu_waterlevel.max(),20)\n",
    "# ...and plot them with the y data from the fitted function:\n",
    "ax.plot(x,fitted_function(x),color='red',label='Raiting Curve')\n",
    "\n",
    "plt.xlabel(\"Water Level [m]\")\n",
    "plt.ylabel(\"Discharge [m3/s]\")\n",
    "plt.legend()\n",
    "plt.show()"
   ]
  },
  {
   "attachments": {},
   "cell_type": "markdown",
   "metadata": {},
   "source": [
    "Now calculate a discharge time series and its residuals using the fitted function:"
   ]
  },
  {
   "cell_type": "code",
   "execution_count": null,
   "metadata": {},
   "outputs": [],
   "source": [
    "# We apply the fitted function to each waterlevel observation in our pandas series.\n",
    "# In this way, we get a new discharge series returned with the same indices as the waterlevel series.\n",
    "rated_insitu = insitu_waterlevel.apply(lambda x: fitted_function(x))\n",
    "rated_dahiti = dahiti_waterlevel.apply(lambda x: fitted_function(x))"
   ]
  },
  {
   "cell_type": "code",
   "execution_count": null,
   "metadata": {},
   "outputs": [],
   "source": [
    "ax = insitu_discharge.plot(label=\"In-Situ\")\n",
    "rated_insitu.plot(ax=ax, label=\"In-Situ (Rated)\")\n",
    "rated_dahiti.plot(ax=ax, label=\"DAHITI (Rated)\")\n",
    "plt.ylabel(\"Discharge [m3/s]\")\n",
    "plt.title(\"Discharge Time Series\")\n",
    "plt.grid()\n",
    "plt.legend()\n",
    "plt.show()\n",
    "\n",
    "residuals_dahiti = rated_dahiti - insitu_discharge\n",
    "residuals_insitu = rated_insitu - insitu_discharge\n",
    "\n",
    "# Bar plots for time series are a bit messy in Pandas, so we use a line plot for simplicity:\n",
    "ax = residuals_insitu.dropna().plot(label=\"In-Situ (Rated)\")\n",
    "residuals_dahiti.dropna().plot(ax=ax, label=\"DAHITI (Rated)\")\n",
    "plt.title(\"Discharge Residuals\")\n",
    "plt.ylabel(\"Discharge [m3/s]\")\n",
    "plt.grid()\n",
    "plt.legend()\n",
    "plt.show()"
   ]
  },
  {
   "attachments": {},
   "cell_type": "markdown",
   "metadata": {},
   "source": [
    "- **When do the largest errors occur?**\n",
    "- **What could be a possible explanation?**\n",
    "\n",
    "Additioanlly, calculate the RMSE and NRMSE (normed by the 95th and 5th percentile) for the rated data:\n",
    "\n",
    "$$ RMSE = \\sqrt{\\frac{\\sum{residuals}^2}{n}}$$"
   ]
  },
  {
   "cell_type": "code",
   "execution_count": null,
   "metadata": {},
   "outputs": [],
   "source": [
    "# You can use the numpy sqrt, series.pow(2), and series.mean() functions\n",
    "rmse_dahiti = ...\n",
    "rmse_insitu = ...\n",
    "norm = insitu_discharge.quantile(0.95) - insitu_discharge.quantile(0.05)\n",
    "\n",
    "print('Simple Rating Quality Assessment:')\n",
    "print(f'In-Situ (Rated): RMSE {rmse_insitu:.0f} m3/s; NRMSE {rmse_insitu/norm*100:.0f}% ({residuals_insitu.dropna().shape[0]} of {rated_insitu.dropna().shape[0]}  Samples)')\n",
    "print(f'DAHITI (Rated): RMSE {rmse_dahiti:.0f} m3/s; NRMSE {rmse_dahiti/norm*100:.0f}% ({residuals_dahiti.dropna().shape[0]} of {rated_dahiti.dropna().shape[0]}  Samples)')"
   ]
  },
  {
   "attachments": {},
   "cell_type": "markdown",
   "metadata": {},
   "source": [
    "#### 2. Jones Rating\n",
    "\n",
    "As you saw above the simple rating curve only fits roughly to the actual water level to discharge ratio.\n",
    "\n",
    "The Jones raiting cosiders additionally the rate of water level change."
   ]
  },
  {
   "cell_type": "code",
   "execution_count": null,
   "metadata": {},
   "outputs": [],
   "source": [
    "delta_t = insitu_waterlevel.index.to_series().diff().dt.days\n",
    "delta_h = insitu_waterlevel.diff()\n",
    "insitu_rate_of_change = delta_h / delta_t"
   ]
  },
  {
   "cell_type": "code",
   "execution_count": null,
   "metadata": {},
   "outputs": [],
   "source": [
    "df.loc[:,'rate_of_change'] = insitu_rate_of_change\n",
    "ax = df.plot.scatter('insitu_waterlevel','insitu_discharge',c=\"rate_of_change\",vmin=-0.4,vmax=0.4)\n",
    "ax.set_xlabel(\"Water Level [m]\")\n",
    "ax.set_ylabel(\"Discharge [m3/s]\")\n",
    "plt.gcf().get_axes()[1].set_ylabel(\"Rate of change [m/day]\")\n",
    "plt.show()"
   ]
  },
  {
   "attachments": {},
   "cell_type": "markdown",
   "metadata": {},
   "source": [
    "**What effect can you observe?**"
   ]
  },
  {
   "attachments": {},
   "cell_type": "markdown",
   "metadata": {},
   "source": [
    "Now we implement the Jones Raiting Curve Function:\n",
    "\n",
    "$$\n",
    "Q=Q_n \\sqrt{1+\\frac{1}{S C} \\frac{\\Delta h}{\\Delta t}}\n",
    "$$\n",
    "\n",
    "where\n",
    "- $Q_n$ is the previously computed discharge using the polynomal function(fitted_function)\n",
    "- $SC$ is the coefficient to be fitted\n",
    "- $\\frac{\\Delta h}{\\Delta t}$ is the previously calculated rate of change"
   ]
  },
  {
   "cell_type": "code",
   "execution_count": null,
   "metadata": {},
   "outputs": [],
   "source": [
    "# The optimize.curve_fit function expects the input parameters (h and dht) to be stacked in one numpy array\n",
    "# So first we unpack parameters from the stack\n",
    "def jones_function(x,sc):\n",
    "    h, dht = x[:,0], x[:,1]\n",
    "    Qn = fitted_function(h)\n",
    "    return ...\n",
    "\n",
    "# The optimize.curve_fit returns the fitted coefficient (popt) and its covariance (pcov).\n",
    "# We only need popt in this case.\n",
    "popt, pcov = optimize.curve_fit(\n",
    "    f = jones_function,\n",
    "    # To fit the function we need synchron waterlevel and discharge observations, so we drop any date missing any data.\n",
    "    # As mentioned above, we need to stack the input parameters in one numpy array:\n",
    "    xdata= df.dropna().loc[:,['insitu_waterlevel','rate_of_change']].to_numpy(),\n",
    "    # The training data:\n",
    "    ydata = df.dropna().insitu_discharge,\n",
    "    # We use a Levenberg-Marquardt algorithm to minimze the residuals.\n",
    "    method=\"lm\"\n",
    "    )"
   ]
  },
  {
   "cell_type": "code",
   "execution_count": null,
   "metadata": {},
   "outputs": [],
   "source": [
    "insitu_jones_discharge = pd.Series(jones_function(df.loc[:,['insitu_waterlevel','rate_of_change']].dropna().to_numpy(),popt),index=df.loc[:,['insitu_waterlevel','rate_of_change']].dropna().index)"
   ]
  },
  {
   "attachments": {},
   "cell_type": "markdown",
   "metadata": {},
   "source": [
    "Now we plot the data from the Jones function.  \n",
    "You should see many loops covering the training data"
   ]
  },
  {
   "cell_type": "code",
   "execution_count": null,
   "metadata": {},
   "outputs": [],
   "source": [
    "df.loc[:,'rate_of_change'] = insitu_rate_of_change\n",
    "ax = df.plot.scatter('insitu_waterlevel','insitu_discharge',c=\"rate_of_change\",vmin=-0.4,vmax=0.4)\n",
    "ax.set_xlabel(\"Water Level [m]\")\n",
    "ax.set_ylabel(\"Discharge [m3/s]\")\n",
    "plt.gcf().get_axes()[1].set_ylabel(\"Rate of change [m/day]\")\n",
    "ax.plot(insitu_waterlevel.loc[insitu_jones_discharge.index],insitu_jones_discharge,alpha=.75,linewidth=.5,label=\"In-Situ Jones Function Discharge\")\n",
    "plt.legend()\n",
    "plt.show()"
   ]
  },
  {
   "attachments": {},
   "cell_type": "markdown",
   "metadata": {},
   "source": [
    "So far, we only used in-situ data with the Jones function.\n",
    "Now, estimate the discharge using DAHITI data and the fitted Jones function:"
   ]
  },
  {
   "cell_type": "code",
   "execution_count": null,
   "metadata": {},
   "outputs": [],
   "source": [
    "delta_t = dahiti_waterlevel.index.to_series().diff().dt.days\n",
    "delta_h = dahiti_waterlevel.diff()\n",
    "dahiti_rate_of_change = delta_h / delta_t\n",
    "\n",
    "dahiti_jones_discharge = pd.Series(jones_function(np.array([dahiti_waterlevel,dahiti_rate_of_change]).T,popt),index=dahiti_waterlevel.index)"
   ]
  },
  {
   "cell_type": "code",
   "execution_count": null,
   "metadata": {},
   "outputs": [],
   "source": [
    "df.loc[:,'rate_of_change'] = insitu_rate_of_change\n",
    "ax = df.plot.scatter('insitu_waterlevel','insitu_discharge',c=\"rate_of_change\",vmin=-0.4,vmax=0.4)\n",
    "ax.set_xlabel(\"Water Level [m]\")\n",
    "ax.set_ylabel(\"Discharge [m3/s]\")\n",
    "plt.gcf().get_axes()[1].set_ylabel(\"Rate of change [m/day]\")\n",
    "ax.plot(dahiti_waterlevel,dahiti_jones_discharge,alpha=.75,linewidth=.5,label=\"DAHITI Jones Function Discharge\")\n",
    "plt.legend()\n",
    "plt.show()"
   ]
  },
  {
   "cell_type": "code",
   "execution_count": null,
   "metadata": {},
   "outputs": [],
   "source": [
    "ax = insitu_discharge.plot(label=\"In-Situ\")\n",
    "insitu_jones_discharge.plot(ax=ax, label=\"In-Situ (Jones)\")\n",
    "dahiti_jones_discharge.plot(ax=ax, label=\"DAHITI (Jones)\")\n",
    "plt.ylabel(\"Discharge [m3/s]\")\n",
    "plt.title(\"Discharge Time Series\")\n",
    "plt.grid()\n",
    "plt.legend()\n",
    "plt.show()\n",
    "\n",
    "residuals_dahiti = dahiti_jones_discharge - insitu_discharge\n",
    "residuals_insitu = insitu_jones_discharge - insitu_discharge\n",
    "\n",
    "# Bar plots for time series are a bit messy in Pandas, so we use a line plot for simplicity:\n",
    "ax = residuals_insitu.dropna().plot(label=\"In-Situ (Jones)\")\n",
    "residuals_dahiti.dropna().plot(ax=ax, label=\"DAHITI (Jones)\")\n",
    "plt.title(\"Discharge Residuals\")\n",
    "plt.ylabel(\"Discharge [m3/s]\")\n",
    "plt.grid()\n",
    "plt.legend()\n",
    "plt.show()"
   ]
  },
  {
   "cell_type": "code",
   "execution_count": null,
   "metadata": {},
   "outputs": [],
   "source": [
    "rmse_dahiti = np.sqrt(residuals_dahiti.pow(2).mean())\n",
    "rmse_insitu = np.sqrt(residuals_insitu.pow(2).mean())\n",
    "norm = insitu_discharge.quantile(0.95) - insitu_discharge.quantile(0.05)\n",
    "\n",
    "print('Jones Rating Quality Assessment:')\n",
    "print(f'In-Situ (Jones): RMSE {rmse_insitu:.0f} m3/s; NRMSE {rmse_insitu/norm*100:.0f}% ({residuals_insitu.dropna().shape[0]} of {insitu_jones_discharge.dropna().shape[0]} Samples validated)')\n",
    "print(f'DAHITI (Jones): RMSE {rmse_dahiti:.0f} m3/s; NRMSE {rmse_dahiti/norm*100:.0f}% ({residuals_dahiti.dropna().shape[0]} of {dahiti_jones_discharge.dropna().shape[0]} Samples validated)')"
   ]
  },
  {
   "attachments": {},
   "cell_type": "markdown",
   "metadata": {},
   "source": [
    "Compare the Jones rated DAHITI discharge to the insitu discharge:"
   ]
  },
  {
   "cell_type": "code",
   "execution_count": null,
   "metadata": {},
   "outputs": [],
   "source": [
    "residuals_simple = rated_dahiti - insitu_jones_discharge\n",
    "rmse_simple = np.sqrt(residuals_simple.pow(2).mean())\n",
    "\n",
    "residuals_jones = dahiti_jones_discharge - insitu_jones_discharge\n",
    "rmse_jones = np.sqrt(residuals_jones.pow(2).mean())\n",
    "\n",
    "print(f'DAHITI (Simple) vs In-Situ (Jones): RMSE {rmse_simple:.0f} m3/s; NRMSE {rmse_simple/norm*100:.0f}% ({residuals_simple.dropna().shape[0]} of {rated_dahiti.dropna().shape[0]} Samples validated)')\n",
    "print(f'DAHITI (Jones) vs In-Situ (Jones): RMSE {rmse_jones:.0f} m3/s; NRMSE {rmse_jones/norm*100:.0f}% ({residuals_jones.dropna().shape[0]} of {dahiti_jones_discharge.dropna().shape[0]} Samples validated)')"
   ]
  },
  {
   "attachments": {},
   "cell_type": "markdown",
   "metadata": {},
   "source": [
    "- **How is the quality of the derived data?**\n",
    "- **Are there large deviations and how could they be explained?**"
   ]
  },
  {
   "cell_type": "code",
   "execution_count": null,
   "metadata": {},
   "outputs": [],
   "source": [
    "# This deletes all dahiti_waterlevel with an error greater 10 cm:\n",
    "dahiti_waterlevel = dahiti_waterlevel[(dahiti_waterlevel - insitu_waterlevel).abs() < 0.1]\n",
    "# Rerun all the cells above and see how the results change."
   ]
  }
 ],
 "metadata": {
  "kernelspec": {
   "display_name": "Python 3",
   "language": "python",
   "name": "python3"
  },
  "language_info": {
   "codemirror_mode": {
    "name": "ipython",
    "version": 3
   },
   "file_extension": ".py",
   "mimetype": "text/x-python",
   "name": "python",
   "nbconvert_exporter": "python",
   "pygments_lexer": "ipython3",
   "version": "3.11.0 (v3.11.0:deaf509e8f, Oct 24 2022, 14:43:23) [Clang 13.0.0 (clang-1300.0.29.30)]"
  },
  "orig_nbformat": 4,
  "vscode": {
   "interpreter": {
    "hash": "aee8b7b246df8f9039afb4144a1f6fd8d2ca17a180786b69acc140d282b71a49"
   }
  }
 },
 "nbformat": 4,
 "nbformat_minor": 2
}
